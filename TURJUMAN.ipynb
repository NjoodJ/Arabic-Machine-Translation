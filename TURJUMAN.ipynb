{
  "cells": [
    {
      "cell_type": "markdown",
      "metadata": {
        "id": "view-in-github",
        "colab_type": "text"
      },
      "source": [
        "<a href=\"https://colab.research.google.com/github/NjoodJ/Arabic-Machine-Translation/blob/main/TURJUMAN.ipynb\" target=\"_parent\"><img src=\"https://colab.research.google.com/assets/colab-badge.svg\" alt=\"Open In Colab\"/></a>"
      ]
    },
    {
      "cell_type": "code",
      "execution_count": null,
      "metadata": {
        "id": "4rLvhHf_VdBk",
        "outputId": "a21710ce-f621-46c7-c329-6328176fb746"
      },
      "outputs": [
        {
          "name": "stdout",
          "output_type": "stream",
          "text": [
            "Original (English): Hello, how are you?\n",
            "Translation (Arabic): مرحبا ، كيف حالك ؟\n",
            "\n",
            "Original (Spanish): ¿Hola, cómo estás?\n",
            "Translation (Arabic): مرحبا ، كيف حالك ؟\n",
            "\n",
            "Original (Korean): 안녕하세요. 어떻게 지내세요?\n",
            "Translation (Arabic): حسنا ، ما هي المشكلة ؟\n",
            "\n",
            "Original (Bulgarian): Здравей, как си?\n",
            "Translation (Arabic): مرحبا ، كيف حالك ؟\n",
            "\n",
            "Original (Greek): Γεια πώς είσαι?\n",
            "Translation (Arabic): مرحبا ، كيف حالك ؟\n",
            "\n",
            "Original (Danish): Hej, hvordan går det?\n",
            "Translation (Arabic): مرحبا ، كيف حالك ؟\n",
            "\n",
            "Original (Russian): Привет, как дела?\n",
            "Translation (Arabic): مرحبا ، كيف حالك ؟\n",
            "\n",
            "Original (Hindi): नमस्ते, आप कैसे हैं?\n",
            "Translation (Arabic): مرحبا ، كيف حالك ؟\n",
            "\n"
          ]
        }
      ],
      "source": [
        "import torch\n",
        "from transformers import AutoTokenizer, AutoModelForSeq2SeqLM\n",
        "\n",
        "tokenizer = AutoTokenizer.from_pretrained(\"UBC-NLP/turjuman\")\n",
        "model = AutoModelForSeq2SeqLM.from_pretrained(\"UBC-NLP/turjuman\")\n",
        "\n",
        "sentences = [\n",
        "    (\"Hello, how are you?\", \"English\"),\n",
        "    (\"¿Hola, cómo estás?\", \"Spanish\"),\n",
        "    (\"안녕하세요. 어떻게 지내세요?\", \"Korean\"),\n",
        "    (\"Здравей, как си?\", \"Bulgarian\"),\n",
        "    (\"Γεια πώς είσαι?\", \"Greek\"),\n",
        "    (\"Hej, hvordan går det?\", \"Danish\"),\n",
        "    (\"Привет, как дела?\" , \"Russian\"),\n",
        "    (\"नमस्ते, आप कैसे हैं?\" , \"Hindi\")\n",
        "]\n",
        "\n",
        "for sentence, language in sentences:\n",
        "    input_tokens = tokenizer.encode(sentence, return_tensors=\"pt\")\n",
        "\n",
        "    translated_tokens = model.generate(input_tokens, max_length=128, num_beams=4, early_stopping=True)\n",
        "    translated_sentence = tokenizer.decode(translated_tokens[0], skip_special_tokens=True)\n",
        "\n",
        "    print(f\"Original ({language}): {sentence}\")\n",
        "    print(f\"Translation (Arabic): {translated_sentence}\")\n",
        "    print()"
      ]
    }
  ],
  "metadata": {
    "accelerator": "GPU",
    "colab": {
      "provenance": [],
      "include_colab_link": true
    },
    "kernelspec": {
      "display_name": "Python 3",
      "name": "python3"
    },
    "language_info": {
      "codemirror_mode": {
        "name": "ipython",
        "version": 3
      },
      "file_extension": ".py",
      "mimetype": "text/x-python",
      "name": "python",
      "nbconvert_exporter": "python",
      "pygments_lexer": "ipython3",
      "version": "3.10.13"
    }
  },
  "nbformat": 4,
  "nbformat_minor": 0
}